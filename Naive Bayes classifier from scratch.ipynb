{
 "cells": [
  {
   "cell_type": "markdown",
   "metadata": {},
   "source": [
    "# Gaussian Naive Bayes Classifier from scratch in numpy"
   ]
  },
  {
   "cell_type": "markdown",
   "metadata": {},
   "source": [
    "We will start by importing the necessary libraries"
   ]
  },
  {
   "cell_type": "code",
   "execution_count": 1,
   "metadata": {},
   "outputs": [],
   "source": [
    "import numpy as np\n",
    "import pandas as pd\n",
    "import math\n",
    "import warnings\n",
    "warnings.filterwarnings('ignore')"
   ]
  },
  {
   "cell_type": "markdown",
   "metadata": {},
   "source": [
    "## Overview of the algorithm :-"
   ]
  },
  {
   "cell_type": "markdown",
   "metadata": {},
   "source": [
    "Naive bayes is a simple algorithm in which we find the distribution of y given x i.e. p(y|x) by bayes rule :-\n",
    "\n",
    "p(y|x) = (p(x|y) * p(y))/(p(x))\n",
    "\n",
    "Also the algorithm has a strong assumption that the x's are conditionally independent given y.\n",
    "\n",
    "p(y) is the prior of the classes which can be extracted from the dataset.\n",
    "\n",
    "Also, we will use gaussian distribution as the distribution of attributes in our dataset."
   ]
  },
  {
   "cell_type": "markdown",
   "metadata": {},
   "source": [
    "We will use Pima Indians diabetes dataset for classification task. Dataset can be found here: https://raw.githubusercontent.com/jbrownlee/Datasets/master/pima-indians-diabetes.data.csv"
   ]
  },
  {
   "cell_type": "code",
   "execution_count": 2,
   "metadata": {},
   "outputs": [
    {
     "data": {
      "text/html": [
       "<div>\n",
       "<style scoped>\n",
       "    .dataframe tbody tr th:only-of-type {\n",
       "        vertical-align: middle;\n",
       "    }\n",
       "\n",
       "    .dataframe tbody tr th {\n",
       "        vertical-align: top;\n",
       "    }\n",
       "\n",
       "    .dataframe thead th {\n",
       "        text-align: right;\n",
       "    }\n",
       "</style>\n",
       "<table border=\"1\" class=\"dataframe\">\n",
       "  <thead>\n",
       "    <tr style=\"text-align: right;\">\n",
       "      <th></th>\n",
       "      <th>0</th>\n",
       "      <th>1</th>\n",
       "      <th>2</th>\n",
       "      <th>3</th>\n",
       "      <th>4</th>\n",
       "      <th>5</th>\n",
       "      <th>6</th>\n",
       "      <th>7</th>\n",
       "      <th>8</th>\n",
       "    </tr>\n",
       "  </thead>\n",
       "  <tbody>\n",
       "    <tr>\n",
       "      <th>0</th>\n",
       "      <td>6</td>\n",
       "      <td>148</td>\n",
       "      <td>72</td>\n",
       "      <td>35</td>\n",
       "      <td>0</td>\n",
       "      <td>33.6</td>\n",
       "      <td>0.627</td>\n",
       "      <td>50</td>\n",
       "      <td>1</td>\n",
       "    </tr>\n",
       "    <tr>\n",
       "      <th>1</th>\n",
       "      <td>1</td>\n",
       "      <td>85</td>\n",
       "      <td>66</td>\n",
       "      <td>29</td>\n",
       "      <td>0</td>\n",
       "      <td>26.6</td>\n",
       "      <td>0.351</td>\n",
       "      <td>31</td>\n",
       "      <td>0</td>\n",
       "    </tr>\n",
       "    <tr>\n",
       "      <th>2</th>\n",
       "      <td>8</td>\n",
       "      <td>183</td>\n",
       "      <td>64</td>\n",
       "      <td>0</td>\n",
       "      <td>0</td>\n",
       "      <td>23.3</td>\n",
       "      <td>0.672</td>\n",
       "      <td>32</td>\n",
       "      <td>1</td>\n",
       "    </tr>\n",
       "    <tr>\n",
       "      <th>3</th>\n",
       "      <td>1</td>\n",
       "      <td>89</td>\n",
       "      <td>66</td>\n",
       "      <td>23</td>\n",
       "      <td>94</td>\n",
       "      <td>28.1</td>\n",
       "      <td>0.167</td>\n",
       "      <td>21</td>\n",
       "      <td>0</td>\n",
       "    </tr>\n",
       "    <tr>\n",
       "      <th>4</th>\n",
       "      <td>0</td>\n",
       "      <td>137</td>\n",
       "      <td>40</td>\n",
       "      <td>35</td>\n",
       "      <td>168</td>\n",
       "      <td>43.1</td>\n",
       "      <td>2.288</td>\n",
       "      <td>33</td>\n",
       "      <td>1</td>\n",
       "    </tr>\n",
       "  </tbody>\n",
       "</table>\n",
       "</div>"
      ],
      "text/plain": [
       "   0    1   2   3    4     5      6   7  8\n",
       "0  6  148  72  35    0  33.6  0.627  50  1\n",
       "1  1   85  66  29    0  26.6  0.351  31  0\n",
       "2  8  183  64   0    0  23.3  0.672  32  1\n",
       "3  1   89  66  23   94  28.1  0.167  21  0\n",
       "4  0  137  40  35  168  43.1  2.288  33  1"
      ]
     },
     "execution_count": 2,
     "metadata": {},
     "output_type": "execute_result"
    }
   ],
   "source": [
    "df = pd.read_csv('pima-indians-diabetes.data.csv',delimiter=',',header = None)\n",
    "df.head()"
   ]
  },
  {
   "cell_type": "code",
   "execution_count": 3,
   "metadata": {},
   "outputs": [],
   "source": [
    "def data_split(data,ratio=0.8):\n",
    "    data_train = data.iloc[:int(ratio*data.shape[0]),:]\n",
    "    data_test  = data.iloc[int(ratio*data.shape[0]):,:]\n",
    "    return data_train,data_test"
   ]
  },
  {
   "cell_type": "code",
   "execution_count": 4,
   "metadata": {},
   "outputs": [],
   "source": [
    "def label_split(data,ratio=0.8):\n",
    "    data_train = data[:int(ratio*data.shape[0])]\n",
    "    data_test  = data[int(ratio*data.shape[0]):]\n",
    "    return data_train,data_test"
   ]
  },
  {
   "cell_type": "markdown",
   "metadata": {},
   "source": [
    "Functions to calculate the mean and standard deviation of features wrt. classes and as a whole is required for our model as we will be using normal distribution.\n",
    "Naive Bayes makes use of these summary statistics to predict the final probability of the classes given our example."
   ]
  },
  {
   "cell_type": "code",
   "execution_count": 5,
   "metadata": {},
   "outputs": [],
   "source": [
    "def split_data_by_class(data):\n",
    "    data_class_0 = []\n",
    "    data_class_1 = []\n",
    "    random_row = []\n",
    "    for i in range(len(data)):\n",
    "        random_row = list(data[i])\n",
    "        if(random_row[-1] == 0):\n",
    "            data_class_0.append(random_row)\n",
    "        else:\n",
    "            data_class_1.append(random_row)\n",
    "    data_class_0 = np.array(data_class_0)\n",
    "    data_class_1 = np.array(data_class_1)\n",
    "    return data_class_0 , data_class_1"
   ]
  },
  {
   "cell_type": "code",
   "execution_count": 6,
   "metadata": {},
   "outputs": [],
   "source": [
    "def get_mean(array_nos):\n",
    "    return sum(array_nos)/float(len(array_nos))"
   ]
  },
  {
   "cell_type": "code",
   "execution_count": 7,
   "metadata": {},
   "outputs": [],
   "source": [
    "def std_dev(array_nos):\n",
    "    mean_val = get_mean(array_nos)\n",
    "    val = [pow(x-mean_val,2)/float(len(array_nos)-1) for x in array_nos]\n",
    "    return math.sqrt(sum(val))"
   ]
  },
  {
   "cell_type": "code",
   "execution_count": 8,
   "metadata": {},
   "outputs": [],
   "source": [
    "def summary_features(dataset):\n",
    "    summary = [[get_mean(feature),std_dev(feature)] for feature in zip(*dataset)]\n",
    "    del summary[-1]\n",
    "    return np.array(summary)"
   ]
  },
  {
   "cell_type": "code",
   "execution_count": 9,
   "metadata": {},
   "outputs": [],
   "source": [
    "def gaussian_prob(x,mean,dev):\n",
    "    return (1.0/(pow(2*math.pi,0.5)*dev)) * (math.exp(-math.pow(x-mean,2))/(2*math.pow(dev,2)))"
   ]
  },
  {
   "cell_type": "code",
   "execution_count": 10,
   "metadata": {},
   "outputs": [],
   "source": [
    "def classwise_probability(data_class_0,data_class_1,in_vector):\n",
    "    summarize_0 = summary_features(data_class_0)\n",
    "    summarize_1 = summary_features(data_class_1)\n",
    "    probabilities_0 = 1\n",
    "    probabilities_1 = 1\n",
    "    for i in range(len(summarize_0)):\n",
    "        mean , stdev = summarize_0[i]\n",
    "        probabilities_0 *= gaussian_prob(in_vector[i],mean,stdev) \n",
    "    for i in range(len(summarize_1)):\n",
    "        mean , stdev = summarize_1[i]\n",
    "        probabilities_1 *= gaussian_prob(in_vector[i],mean,stdev)\n",
    "    return probabilities_0,probabilities_1    "
   ]
  },
  {
   "cell_type": "code",
   "execution_count": 11,
   "metadata": {},
   "outputs": [],
   "source": [
    "def predict(data_class_0,data_class_1,in_vector):\n",
    "    probab_0 , probab_1 = classwise_probability(data_class_0,data_class_1,in_vector)\n",
    "    if(probab_0 >= probab_1):\n",
    "        return 0\n",
    "    else:\n",
    "        return 1"
   ]
  },
  {
   "cell_type": "code",
   "execution_count": 12,
   "metadata": {},
   "outputs": [],
   "source": [
    "def get_predictions(data_class_0,data_class_1,test_data):\n",
    "    predictions = []\n",
    "    for i in range(len(test_data)):\n",
    "        label = predict(data_class_0,data_class_1,test_data[i])\n",
    "        predictions.append(label)\n",
    "    predictions = np.array(predictions)\n",
    "    return predictions"
   ]
  },
  {
   "cell_type": "code",
   "execution_count": 13,
   "metadata": {},
   "outputs": [],
   "source": [
    "def evaluation(data_class_0,data_class_1,test_data,test_label):\n",
    "    accuracy = 0\n",
    "    predictions = get_predictions(data_class_0,data_class_1,test_data)\n",
    "    for i in range(len(test_data)):\n",
    "        if(predictions[i] == test_label[i]):\n",
    "            accuracy += 1\n",
    "    return accuracy/len(test_data)        "
   ]
  },
  {
   "cell_type": "code",
   "execution_count": 14,
   "metadata": {},
   "outputs": [],
   "source": [
    "data_train , data_test = data_split(df,0.6)"
   ]
  },
  {
   "cell_type": "code",
   "execution_count": 15,
   "metadata": {},
   "outputs": [],
   "source": [
    "test_label = data_test.iloc[:,8:] "
   ]
  },
  {
   "cell_type": "code",
   "execution_count": 16,
   "metadata": {},
   "outputs": [],
   "source": [
    "data_test = data_test.iloc[:,:8]"
   ]
  },
  {
   "cell_type": "code",
   "execution_count": 17,
   "metadata": {},
   "outputs": [],
   "source": [
    "data_train = data_train.as_matrix()\n",
    "data_test = data_test.as_matrix()\n",
    "test_label = test_label.as_matrix()"
   ]
  },
  {
   "cell_type": "code",
   "execution_count": 18,
   "metadata": {},
   "outputs": [],
   "source": [
    "data_train_0 , data_train_1 = split_data_by_class(data_train)"
   ]
  },
  {
   "cell_type": "code",
   "execution_count": 19,
   "metadata": {},
   "outputs": [
    {
     "data": {
      "text/plain": [
       "0.6948051948051948"
      ]
     },
     "execution_count": 19,
     "metadata": {},
     "output_type": "execute_result"
    }
   ],
   "source": [
    "evaluation(data_train_0,data_train_1,data_test,test_label)"
   ]
  },
  {
   "cell_type": "markdown",
   "metadata": {},
   "source": [
    "So finally we have our accuracy as 69.48% which is higher than the baseline i.e. 65% for this dataset with just basic Gaussian Naive Bayes classifier."
   ]
  }
 ],
 "metadata": {
  "kernelspec": {
   "display_name": "Python 3",
   "language": "python",
   "name": "python3"
  },
  "language_info": {
   "codemirror_mode": {
    "name": "ipython",
    "version": 3
   },
   "file_extension": ".py",
   "mimetype": "text/x-python",
   "name": "python",
   "nbconvert_exporter": "python",
   "pygments_lexer": "ipython3",
   "version": "3.6.5"
  }
 },
 "nbformat": 4,
 "nbformat_minor": 2
}
